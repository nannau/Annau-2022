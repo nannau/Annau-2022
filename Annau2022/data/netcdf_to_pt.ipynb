{
 "cells": [
  {
   "cell_type": "code",
   "execution_count": 5,
   "id": "b45ee690",
   "metadata": {},
   "outputs": [],
   "source": [
    "import xarray as xr\n",
    "import torch"
   ]
  },
  {
   "cell_type": "code",
   "execution_count": 17,
   "id": "4a120d70",
   "metadata": {},
   "outputs": [
    {
     "name": "stdout",
     "output_type": "stream",
     "text": [
      "coarse train florida\n",
      "coarse test florida\n",
      "fine train florida\n",
      "fine test florida\n",
      "coarse train central\n",
      "coarse test central\n",
      "fine train central\n",
      "fine test central\n",
      "coarse train west\n",
      "coarse test west\n",
      "fine train west\n",
      "fine test west\n"
     ]
    }
   ],
   "source": [
    "basepath = \"/workspace/Annau2022/data/idealized_data/wrf\"\n",
    "namedict = {\"fine\": \"hr\", \"coarse\": \"lr\"}\n",
    "regionk = {\"florida\": \"southeast\", \"central\": \"central\", \"west\": \"west\"}\n",
    "for region in [\"florida\", \"central\", \"west\"]:\n",
    "    for res in [\"coarse\", \"fine\"]:\n",
    "        for tset in [\"train\", \"test\"]:\n",
    "            # try:\n",
    "            print(res, tset, region)\n",
    "            ds = xr.open_dataset(f\"{basepath}/{res}_{tset}_{region}.nc\")\n",
    "            x = torch.from_numpy(ds.to_array().values).transpose(0, 1).float()\n",
    "            torch.save(x, f\"{basepath}/{namedict[res]}_{tset}_{regionk[region]}.pt\")\n",
    "            # except FileNotFoundError:\n",
    "                # print(f\"Not doing {res, tset, region}\")\n",
    "                # continue"
   ]
  },
  {
   "cell_type": "code",
   "execution_count": null,
   "id": "d782fad4",
   "metadata": {},
   "outputs": [],
   "source": []
  }
 ],
 "metadata": {
  "kernelspec": {
   "display_name": "Python 3 (ipykernel)",
   "language": "python",
   "name": "python3"
  },
  "language_info": {
   "codemirror_mode": {
    "name": "ipython",
    "version": 3
   },
   "file_extension": ".py",
   "mimetype": "text/x-python",
   "name": "python",
   "nbconvert_exporter": "python",
   "pygments_lexer": "ipython3",
   "version": "3.8.12"
  }
 },
 "nbformat": 4,
 "nbformat_minor": 5
}
