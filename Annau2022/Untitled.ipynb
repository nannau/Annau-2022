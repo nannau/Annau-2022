{
 "cells": [
  {
   "cell_type": "code",
   "execution_count": 16,
   "id": "778121d7",
   "metadata": {},
   "outputs": [
    {
     "name": "stdout",
     "output_type": "stream",
     "text": [
      "unknown option -- Y\n",
      "usage: sftp [-46aCfpqrv] [-B buffer_size] [-b batchfile] [-c cipher]\n",
      "          [-D sftp_server_path] [-F ssh_config] [-i identity_file]\n",
      "          [-J destination] [-l limit] [-o ssh_option] [-P port]\n",
      "          [-R num_requests] [-S program] [-s subsystem | sftp_server]\n",
      "          destination\n"
     ]
    }
   ],
   "source": [
    "import xarray as xr\n",
    "!sftp -P 11100 -Y nannau@aeolus.seos.uvic.ca:/home/nannau/hrconus_subregions_netcdfs ."
   ]
  },
  {
   "cell_type": "code",
   "execution_count": 29,
   "id": "a07b255e",
   "metadata": {},
   "outputs": [],
   "source": [
    "# ds = xr.open_dataset(\"/workspace/Annau2022/data/coarse_train_central.nc\", engine=\"h5netcdf\")\n",
    "ds = xr.open_dataset(\"/workspace/Annau2022/data/from_aeolus/fine_test_west.nc\", engine=\"h5netcdf\")"
   ]
  },
  {
   "cell_type": "code",
   "execution_count": 30,
   "id": "c55dd897",
   "metadata": {},
   "outputs": [
    {
     "data": {
      "text/plain": [
       "(<xarray.DataArray 'u10' ()>\n",
       " array(-0.03884387, dtype=float32),\n",
       " <xarray.DataArray 'u10' ()>\n",
       " array(1.0239893, dtype=float32),\n",
       " <xarray.DataArray 'v10' ()>\n",
       " array(0.05625957, dtype=float32),\n",
       " <xarray.DataArray 'v10' ()>\n",
       " array(1.055989, dtype=float32))"
      ]
     },
     "execution_count": 30,
     "metadata": {},
     "output_type": "execute_result"
    }
   ],
   "source": [
    "ds.u10.mean(), ds.u10.std(), ds.v10.mean(), ds.v10.std(), "
   ]
  },
  {
   "cell_type": "code",
   "execution_count": 31,
   "id": "f568bcd7",
   "metadata": {},
   "outputs": [],
   "source": [
    "x = ds.to_array().to_numpy()"
   ]
  },
  {
   "cell_type": "code",
   "execution_count": 32,
   "id": "981ae0f7",
   "metadata": {},
   "outputs": [
    {
     "data": {
      "text/plain": [
       "(2, 3287, 128, 128)"
      ]
     },
     "execution_count": 32,
     "metadata": {},
     "output_type": "execute_result"
    }
   ],
   "source": [
    "# Times, (u10, v10), x, y\n",
    "x.shape"
   ]
  },
  {
   "cell_type": "code",
   "execution_count": 10,
   "id": "2f87bc94",
   "metadata": {},
   "outputs": [
    {
     "name": "stdout",
     "output_type": "stream",
     "text": [
      "u10 stats\n",
      "-1.515546e-08 0.99999887\n",
      "v10 stats\n",
      "1.9782183e-08 0.9999987\n"
     ]
    }
   ],
   "source": [
    "# Check stats:\n",
    "print(\"u10 stats\")\n",
    "print(x[:, 0, ...].mean(), x[:, 0, ...].std())\n",
    "\n",
    "print(\"v10 stats\")\n",
    "print(x[:, 1, ...].mean(), x[:, 1, ...].std())"
   ]
  },
  {
   "cell_type": "code",
   "execution_count": null,
   "id": "3907192e",
   "metadata": {},
   "outputs": [],
   "source": []
  }
 ],
 "metadata": {
  "kernelspec": {
   "display_name": "Python 3 (ipykernel)",
   "language": "python",
   "name": "python3"
  },
  "language_info": {
   "codemirror_mode": {
    "name": "ipython",
    "version": 3
   },
   "file_extension": ".py",
   "mimetype": "text/x-python",
   "name": "python",
   "nbconvert_exporter": "python",
   "pygments_lexer": "ipython3",
   "version": "3.8.12"
  }
 },
 "nbformat": 4,
 "nbformat_minor": 5
}
