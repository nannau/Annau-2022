{
 "cells": [
  {
   "cell_type": "code",
   "execution_count": 1,
   "id": "b45ee690",
   "metadata": {},
   "outputs": [],
   "source": [
    "import xarray as xr\n",
    "import torch"
   ]
  },
  {
   "cell_type": "code",
   "execution_count": 2,
   "id": "4a120d70",
   "metadata": {},
   "outputs": [
    {
     "name": "stdout",
     "output_type": "stream",
     "text": [
      "coarse train florida\n",
      "coarse test florida\n",
      "fine train florida\n",
      "fine test florida\n",
      "coarse train central\n",
      "coarse test central\n",
      "fine train central\n",
      "fine test central\n",
      "coarse train west\n",
      "coarse test west\n",
      "fine train west\n",
      "fine test west\n"
     ]
    }
   ],
   "source": [
    "namedict = {\"fine\": \"hr\", \"coarse\": \"lr\"}\n",
    "regionk = {\"florida\": \"southeast\", \"central\": \"central\", \"west\": \"west\"}\n",
    "for region in [\"florida\", \"central\", \"west\"]:\n",
    "    for res in [\"coarse\", \"fine\"]:\n",
    "        for tset in [\"train\", \"test\"]:\n",
    "            print(res, tset, region)\n",
    "            ds = xr.open_dataset(f\"{res}_{tset}_{region}.nc\")\n",
    "            x = torch.from_numpy(ds.to_array().values).transpose(0, 1).float()\n",
    "            torch.save(x, f\"{namedict[res]}_{tset}_{regionk[region]}.pt\")"
   ]
  },
  {
   "cell_type": "code",
   "execution_count": null,
   "id": "d782fad4",
   "metadata": {},
   "outputs": [],
   "source": []
  }
 ],
 "metadata": {
  "kernelspec": {
   "display_name": "Python 3 (ipykernel)",
   "language": "python",
   "name": "python3"
  },
  "language_info": {
   "codemirror_mode": {
    "name": "ipython",
    "version": 3
   },
   "file_extension": ".py",
   "mimetype": "text/x-python",
   "name": "python",
   "nbconvert_exporter": "python",
   "pygments_lexer": "ipython3",
   "version": "3.8.12"
  }
 },
 "nbformat": 4,
 "nbformat_minor": 5
}
