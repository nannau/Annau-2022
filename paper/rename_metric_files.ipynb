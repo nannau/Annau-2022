{
 "cells": [
  {
   "cell_type": "code",
   "execution_count": 4,
   "metadata": {},
   "outputs": [],
   "source": [
    "import pandas as pd"
   ]
  },
  {
   "cell_type": "code",
   "execution_count": 20,
   "metadata": {},
   "outputs": [],
   "source": [
    "runs = {\"southeast\":\n",
    "        {\n",
    "            \"CNN\": 'e25c6b40324643c3afc1cf42981b11b5',\n",
    "            \"L13\": 'e1d15a0615ca489aa6a17ec60247d0af',\n",
    "            \"L9\": '3f48868c52404eb0a833897aa4642871',\n",
    "            \"L5\": '1824682ae27c48669665cf042052d584',\n",
    "            \"NFS\": 'feda42500d2b45549be96f1bf62b0b03'\n",
    "        },\n",
    "       \"central\":\n",
    "        {\n",
    "            \"CNN\": 'fbe44b0423204805bc6af4d7d6ac562e',\n",
    "            \"L13\": 'bcf7e7cfa8ab4c4196ad6a2bb18e8601',\n",
    "            \"L9\": '079a94c41ad3482996cc2b9f95adba8d',\n",
    "            \"L5\": '202ea9f8a73b401fa22e62c24d9ab2d0',\n",
    "            \"NFS\": '0c5ee480663f4f9eb7200f8879aa1244'\n",
    "        },\n",
    "        \"west\":\n",
    "        {\n",
    "            \"CNN\": 'f76c0170818244629de4544805f93a59',\n",
    "            \"L13\": 'c4ec13e65fe74b399fc9e325a9966fef',\n",
    "            \"L9\": '6abe7a9940c04b47819689070100e5e6',\n",
    "            \"L5\": '70f5be887eff42e8a216780752644b2f',\n",
    "            \"NFS\": 'db9f0fae83c949eaad5d1176a43dae47'\n",
    "        },\n",
    "        \n",
    "}"
   ]
  },
  {
   "cell_type": "code",
   "execution_count": 21,
   "metadata": {},
   "outputs": [
    {
     "name": "stdout",
     "output_type": "stream",
     "text": [
      "Epoch --> Epoch\n",
      "CNN_mae --> CNN_mae\n",
      "L_13_mae --> L_13_mae\n",
      "L_9_mae --> L_9_mae\n",
      "L_5_mae --> L_5_mae\n",
      "NFS_mae --> NFS_mae\n",
      "CNN_mse --> CNN_mse\n",
      "L_13_mse --> L_13_mse\n",
      "L_9_mse --> L_9_mse\n",
      "L_5_mse --> L_5_mse\n",
      "NFS_mse --> NFS_mse\n",
      "CNN_msssim --> CNN_msssim\n",
      "L_13_msssim --> L_13_msssim\n",
      "L_9_msssim --> L_9_msssim\n",
      "L_5_msssim --> L_5_msssim\n",
      "NFS_msssim --> NFS_msssim\n",
      "CNN_wasserstein --> CNN_wasserstein\n",
      "L_13_wasserstein --> L_13_wasserstein\n",
      "L_9_wasserstein --> L_9_wasserstein\n",
      "L_5_wasserstein --> L_5_wasserstein\n",
      "NFS_wasserstein --> NFS_wasserstein\n"
     ]
    }
   ],
   "source": [
    "# for region in runs:\n",
    "region = \"southeast\"\n",
    "path = f\"/workspace/Annau2022/data/metric_evolution/{region}_test_metrics.csv\"\n",
    "runs_region = {value: key for key, value in runs[region].items()}\n",
    "\n",
    "df = pd.read_csv(path)\n",
    "before = df.columns\n",
    "df.drop(\"Unnamed: 0\", axis=1, inplace=True) if \"Unnamed: 0\" in df.columns else None\n",
    "for c in df.columns:\n",
    "    if \"min\" in c:\n",
    "        df.drop(c, axis=1, inplace=True)\n",
    "    if \"max\" in c:\n",
    "        df.drop(c, axis=1, inplace=True)\n",
    "    if \"mean\" in c:\n",
    "        new_name = c.replace(\"_mean\", \"\")\n",
    "        df.rename(columns={c: new_name}, inplace=True)\n",
    "    hc = c.split(\"_\")[0]\n",
    "    if hc in runs_region:\n",
    "        new_name = c.replace(hc, runs_region[hc])\n",
    "        df.rename(columns={c: new_name}, inplace=True)\n",
    "df.to_csv(path, index=False)\n",
    "\n",
    "for b, a in zip(before, df.columns):\n",
    "    print(f\"{b} --> {a}\")"
   ]
  },
  {
   "cell_type": "code",
   "execution_count": null,
   "metadata": {},
   "outputs": [],
   "source": []
  }
 ],
 "metadata": {
  "kernelspec": {
   "display_name": "Python 3 (ipykernel)",
   "language": "python",
   "name": "python3"
  },
  "language_info": {
   "codemirror_mode": {
    "name": "ipython",
    "version": 3
   },
   "file_extension": ".py",
   "mimetype": "text/x-python",
   "name": "python",
   "nbconvert_exporter": "python",
   "pygments_lexer": "ipython3",
   "version": "3.8.12"
  },
  "orig_nbformat": 4
 },
 "nbformat": 4,
 "nbformat_minor": 2
}
