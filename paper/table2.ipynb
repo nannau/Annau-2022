{
 "cells": [
  {
   "cell_type": "code",
   "execution_count": 1,
   "id": "2a2f4a84",
   "metadata": {},
   "outputs": [],
   "source": [
    "from Annau2022.models import generator, critic\n",
    "from Annau2022.SRModel import SRModelData, SuperResolver\n",
    "from Annau2022.RAPSD import compute_rapsd\n",
    "from Annau2022.progress_bar import progress_bar\n",
    "from Annau2022.metrics import compute_mae, compute_ms_ssim, median_symmetric_accuracy, mean_stats\n",
    "\n",
    "import math\n",
    "import torch\n",
    "import torch.utils.data as data_utils\n",
    "import numpy as np\n",
    "from functools import partial\n",
    "\n",
    "\n",
    "import matplotlib.pyplot as plt\n",
    "import matplotlib\n",
    "\n",
    "matplotlib.rcParams.update({\n",
    "    \"text.usetex\": True,\n",
    "    \"font.family\": \"serif\",\n",
    "    \"font.serif\": [\"Computer Modern Roman\"],\n",
    "    \"font.size\": 14,\n",
    "    'mathtext.default': 'regular',\n",
    "    'text.latex.preamble': r'\\usepackage{mathrsfs}'\n",
    "    })\n"
   ]
  },
  {
   "cell_type": "code",
   "execution_count": 2,
   "id": "407de76f",
   "metadata": {},
   "outputs": [],
   "source": [
    "fs_data_path = \"/workspace/Annau2022/data/fs_data/\"\n",
    "pfs_nfs_path = \"/workspace/Annau2022/data/nfs_pfs/\"\n",
    "model_list = [\n",
    "        # CNNs\n",
    "        SRModelData(region=\"southeast\", sr_model_name=\"CNN\", exp_id=\"e25c6b40324643c3afc1cf42981b11b5\", data_path=fs_data_path),\n",
    "        SRModelData(region=\"central\", sr_model_name=\"CNN\", exp_id=\"fbe44b0423204805bc6af4d7d6ac562e\", data_path=fs_data_path),\n",
    "        SRModelData(region=\"west\", sr_model_name=\"CNN\", exp_id=\"f76c0170818244629de4544805f93a59\", data_path=fs_data_path),\n",
    "\n",
    "        # NFS GANs\n",
    "        SRModelData(region=\"southeast\", sr_model_name=\"NFS\", exp_id=\"feda42500d2b45549be96f1bf62b0b03\", data_path=pfs_nfs_path),\n",
    "        SRModelData(region=\"central\", sr_model_name=\"NFS\", exp_id=\"0c5ee480663f4f9eb7200f8879aa1244\", data_path=pfs_nfs_path),\n",
    "        SRModelData(region=\"west\", sr_model_name=\"NFS\", exp_id=\"db9f0fae83c949eaad5d1176a43dae47\", data_path=pfs_nfs_path),\n",
    "\n",
    "        # FS GANs\n",
    "        SRModelData(region=\"southeast\", sr_model_name=\"L_5\", exp_id=\"1824682ae27c48669665cf042052d584\", data_path=fs_data_path),\n",
    "        SRModelData(region=\"southeast\", sr_model_name=\"L_9\", exp_id=\"3f48868c52404eb0a833897aa4642871\", data_path=fs_data_path),\n",
    "        SRModelData(region=\"southeast\", sr_model_name=\"L_13\", exp_id=\"e1d15a0615ca489aa6a17ec60247d0af\", data_path=fs_data_path),\n",
    "        SRModelData(region=\"central\", sr_model_name=\"L_5\", exp_id=\"202ea9f8a73b401fa22e62c24d9ab2d0\", data_path=fs_data_path),\n",
    "        SRModelData(region=\"central\", sr_model_name=\"L_9\", exp_id=\"079a94c41ad3482996cc2b9f95adba8d\", data_path=fs_data_path),\n",
    "        SRModelData(region=\"central\", sr_model_name=\"L_13\", exp_id=\"bcf7e7cfa8ab4c4196ad6a2bb18e8601\", data_path=fs_data_path),\n",
    "        SRModelData(region=\"west\", sr_model_name=\"L_5\", exp_id=\"70f5be887eff42e8a216780752644b2f\", data_path=fs_data_path),\n",
    "        SRModelData(region=\"west\", sr_model_name=\"L_9\", exp_id=\"6abe7a9940c04b47819689070100e5e6\", data_path=fs_data_path),\n",
    "        SRModelData(region=\"west\", sr_model_name=\"L_13\", exp_id=\"c4ec13e65fe74b399fc9e325a9966fef\", data_path=fs_data_path),\n",
    "\n",
    "        # PFS GANs alpha 500\n",
    "        SRModelData(region=\"southeast\", sr_model_name=\"PFS (alpha = 500) L_13\", exp_id=\"3d2ea1e5f805454ea485a3a7c783fd5a\", data_path=pfs_nfs_path),\n",
    "        SRModelData(region=\"southeast\", sr_model_name=\"PFS (alpha = 500) L_9\", exp_id=\"caf7f501306848f8bc746605c4994e31\", data_path=pfs_nfs_path),\n",
    "        SRModelData(region=\"southeast\", sr_model_name=\"PFS (alpha = 500) L_5\", exp_id=\"90375b9266eb442cb15073895e14d691\", data_path=pfs_nfs_path),\n",
    "        SRModelData(region=\"central\", sr_model_name=\"PFS (alpha = 500) L_13\", exp_id=\"c5154f8f03c74cba924d789357e5ca84\", data_path=pfs_nfs_path),\n",
    "        SRModelData(region=\"central\", sr_model_name=\"PFS (alpha = 500) L_9\", exp_id=\"e54c953370974e2db09a37e9c0c7cdb5\", data_path=pfs_nfs_path),\n",
    "        SRModelData(region=\"central\", sr_model_name=\"PFS (alpha = 500) L_5\", exp_id=\"1570ac86f8e94e83b85447618ca576f5\", data_path=pfs_nfs_path),\n",
    "        SRModelData(region=\"west\", sr_model_name=\"PFS (alpha = 500) L_13\", exp_id=\"2e78fba6814545f0be62896cd14b031f\", data_path=pfs_nfs_path),\n",
    "        SRModelData(region=\"west\", sr_model_name=\"PFS (alpha = 500) L_9\", exp_id=\"ad5772150e7547ee8d14aa7bac192f54\", data_path=pfs_nfs_path),\n",
    "        SRModelData(region=\"west\", sr_model_name=\"PFS (alpha = 500) L_5\", exp_id=\"c5c5e0e8aad5411783329f31db91ff78\", data_path=pfs_nfs_path),\n",
    "\n",
    "        # PFS GANs alpha 50\n",
    "        SRModelData(region=\"southeast\", sr_model_name=\"PFS (alpha = 50) L_13\", exp_id=\"5c9745ff961e46f9af206d36b6567fae\", data_path=pfs_nfs_path),\n",
    "        SRModelData(region=\"southeast\", sr_model_name=\"PFS (alpha = 50) L_9\", exp_id=\"3858c673c9344e7caf24144335981752\", data_path=pfs_nfs_path),\n",
    "        SRModelData(region=\"southeast\", sr_model_name=\"PFS (alpha = 50) L_5\", exp_id=\"328e5221158147a9ba9b41ab2ac385c7\", data_path=pfs_nfs_path),\n",
    "        SRModelData(region=\"central\", sr_model_name=\"PFS (alpha = 50) L_13\", exp_id=\"eedf0cd864204866b98e5de5e710f9c3\", data_path=pfs_nfs_path),\n",
    "        SRModelData(region=\"central\", sr_model_name=\"PFS (alpha = 50) L_9\", exp_id=\"1d568d304d7546f78c57e98ff1366b9d\", data_path=pfs_nfs_path),\n",
    "        SRModelData(region=\"central\", sr_model_name=\"PFS (alpha = 50) L_5\", exp_id=\"9400ee7db2004aa3b03e91ff710061eb\", data_path=pfs_nfs_path),\n",
    "        SRModelData(region=\"west\", sr_model_name=\"PFS (alpha = 50) L_13\", exp_id=\"faa34028b516487185c994f48621050a\", data_path=pfs_nfs_path),\n",
    "        SRModelData(region=\"west\", sr_model_name=\"PFS (alpha = 50) L_9\", exp_id=\"2faf762448b54ae2b96234d6c77c38b3\", data_path=pfs_nfs_path),\n",
    "        SRModelData(region=\"west\", sr_model_name=\"PFS (alpha = 50) L_5\", exp_id=\"4f0574ec4f7147f1b0555cafeb1cc98f\", data_path=pfs_nfs_path),\n",
    "\n",
    "]"
   ]
  },
  {
   "cell_type": "code",
   "execution_count": 3,
   "id": "ef1903a5",
   "metadata": {},
   "outputs": [],
   "source": [
    "# Store results\n",
    "# Model name -> metric -> value\n",
    "results = {f\"{model.region}_{model.sr_model_name}\" : {} for model in model_list}"
   ]
  },
  {
   "cell_type": "markdown",
   "id": "5435c71d",
   "metadata": {},
   "source": [
    "### 1. Pixel-wise MAE\n",
    "$|G(\\textbf{x}) - \\textbf{y}|_1$"
   ]
  },
  {
   "cell_type": "code",
   "execution_count": 8,
   "id": "f16a701a",
   "metadata": {},
   "outputs": [
    {
     "name": "stdout",
     "output_type": "stream",
     "text": [
      "Progress: [------------------> ] 96%\r"
     ]
    }
   ],
   "source": [
    "for model in model_list:\n",
    "    progress_bar(model_list.index(model), len(model_list))\n",
    "\n",
    "    key_str = f\"{model.region}_{model.sr_model_name}\"\n",
    "    \n",
    "    lr, hr = model.load_test()\n",
    "    sr = SuperResolver(G=model.load_generator(), lr=lr.float(), hr=hr.float(), region=model.region, batch_size=1024)\n",
    "    hr = sr.super_resolve().detach().clone()\n",
    "    y = sr.ground_truth().detach().clone()\n",
    "\n",
    "    hr_spectra = compute_rapsd(hr)\n",
    "    y_spectra = compute_rapsd(y)\n",
    "\n",
    "    model_results =  dict(\n",
    "        mae = compute_mae(hr.flatten(), y.flatten()).item(),\n",
    "        ms_ssim_score = compute_ms_ssim(hr.cpu(), y.cpu()).item(),\n",
    "        bias_spatial_mean = mean_stats(hr, y, partial(torch.mean, dim=0)).item(),\n",
    "        bias_spatial_std = mean_stats(hr, y, partial(torch.std, dim=0)).item(),\n",
    "        bias_spatial_q90 = mean_stats(hr, y, partial(torch.quantile, dim=0, q=0.90)).item(),\n",
    "        median_symmetric_accuracy_u10 = median_symmetric_accuracy(hr_spectra[\"u10\"], y_spectra[\"u10\"]),\n",
    "        median_symmetric_accuracy_v10 = median_symmetric_accuracy(hr_spectra[\"v10\"], y_spectra[\"v10\"]),\n",
    "    )\n",
    "    results[key_str] = model_results\n"
   ]
  },
  {
   "cell_type": "code",
   "execution_count": 9,
   "id": "87caec78",
   "metadata": {},
   "outputs": [],
   "source": [
    "def print_table(results, model_list):\n",
    "    alphabet = {\"southeast\": \"(a)\", \"central\": \"(b)\", \"west\": \"(c)\"}\n",
    "    latex_nameref = {\n",
    "        \"PFS (alpha = 500) L_13\": \"PFS ($\\\\alpha = 500$) $\\\\mathscr{{L}}_{13}$\",\n",
    "        \"PFS (alpha = 500) L_9\": \"PFS ($\\\\alpha = 500$) $\\\\mathscr{{L}}_9$\",\n",
    "        \"PFS (alpha = 500) L_5\": \"PFS ($\\\\alpha = 500$) $\\\\mathscr{{L}}_5$\",\n",
    "        \"PFS (alpha = 50) L_13\": \"PFS ($\\\\alpha = 50$) $\\\\mathscr{{L}}_{13}$\",\n",
    "        \"PFS (alpha = 50) L_9\": \"PFS ($\\\\alpha = 50$) $\\\\mathscr{{L}}_9$\",\n",
    "        \"PFS (alpha = 50) L_5\": \"PFS ($\\\\alpha = 50$) $\\\\mathscr{{L}}_5$\",\n",
    "        \"NFS\": \"NFS GAN\",\n",
    "        \"L_13\": \"FS $\\\\mathscr{{L}}_{13}$\",\n",
    "        \"L_9\": \"FS $\\\\mathscr{{L}}_9$\",\n",
    "        \"L_5\": \"FS $\\\\mathscr{{L}}_5$\",\n",
    "        \"CNN\": \"CNN\",\n",
    "        }\n",
    "    lines = []\n",
    "    for region, value in alphabet.items():\n",
    "        print(\n",
    "            f\"{value} {region.capitalize()} & MAE [m/s] & MS-SSIM & $\\mu$ [m/s] & $\\sigma$ [m/s] & $Q^{{90}}$ [m/s] & $\\\\xi_{{u10}}$ [\\\\%] & $\\\\xi_{{v10}}$ [\\\\%] &\\\\\\\\ \\hline\"\n",
    "        )\n",
    "\n",
    "        metric_dict = {}\n",
    "        for metric in results[\"west_NFS\"].keys():\n",
    "            metric_dict[metric] = []\n",
    "            for model in model_list:\n",
    "                if model.region == region:\n",
    "                    metric_dict[metric].append(results[f\"{model.region}_{model.sr_model_name}\"][metric])\n",
    "\n",
    "            if metric == \"ms_ssim_score\":\n",
    "                metric_dict[metric] = round(np.array(metric_dict[metric]).max(), 3)\n",
    "            else:\n",
    "                metric_dict[metric] = round(min(metric_dict[metric], key=abs), 3)\n",
    "\n",
    "        for model in model_list:\n",
    "            if model.region == region:\n",
    "                print(f\"{latex_nameref[model.sr_model_name]}\", end=\" &\")\n",
    "                for metric in results[f\"{model.region}_{model.sr_model_name}\"].keys():\n",
    "                    result_value_comp = round(results[f\"{model.region}_{model.sr_model_name}\"][metric], 3)\n",
    "                    result_value = results[f\"{model.region}_{model.sr_model_name}\"][metric]\n",
    "                    if math.isclose(\n",
    "                        metric_dict[metric],\n",
    "                        result_value_comp\n",
    "                    ):\n",
    "                        if math.isclose(result_value_comp, 0.00):\n",
    "                            result_value = 0.00\n",
    "\n",
    "                        print(f\"\\\\textbf{{{result_value:.3f}}}\", end=\" & \")\n",
    "                    else:\n",
    "                        print(f\"{result_value:.3f}\", end=\" & \")\n",
    "                print(\"\\\\\\\\\")\n",
    "\n",
    "        print(f\"\\\\hline\")"
   ]
  },
  {
   "cell_type": "code",
   "execution_count": 10,
   "id": "3c05959c",
   "metadata": {},
   "outputs": [
    {
     "name": "stdout",
     "output_type": "stream",
     "text": [
      "(a) Southeast & MAE [m/s] & MS-SSIM & $\\mu$ [m/s] & $\\sigma$ [m/s] & $Q^{90}$ [m/s] & $\\xi_{u10}$ [\\%] & $\\xi_{v10}$ [\\%] &\\\\ \\hline\n",
      "CNN &\\textbf{1.230} & \\textbf{0.868} & -0.217 & -0.127 & -0.376 & 220.643 & 281.435 & \\\\\n",
      "NFS GAN &1.433 & 0.848 & -0.043 & \\textbf{-0.007} & \\textbf{-0.072} & 3.382 & \\textbf{2.426} & \\\\\n",
      "FS $\\mathscr{{L}}_5$ &1.303 & \\textbf{0.868} & -0.228 & -0.080 & -0.339 & 6.932 & 6.557 & \\\\\n",
      "FS $\\mathscr{{L}}_9$ &1.325 & 0.851 & -0.196 & -0.054 & -0.296 & 7.664 & 10.094 & \\\\\n",
      "FS $\\mathscr{{L}}_{13}$ &1.360 & 0.843 & -0.158 & -0.029 & -0.202 & \\textbf{2.912} & 5.254 & \\\\\n",
      "PFS ($\\alpha = 500$) $\\mathscr{{L}}_{13}$ &1.413 & 0.849 & -0.107 & -0.071 & -0.230 & 14.705 & 12.563 & \\\\\n",
      "PFS ($\\alpha = 500$) $\\mathscr{{L}}_9$ &1.414 & 0.847 & -0.198 & -0.111 & -0.372 & 16.499 & 16.384 & \\\\\n",
      "PFS ($\\alpha = 500$) $\\mathscr{{L}}_5$ &1.382 & 0.856 & -0.120 & -0.094 & -0.264 & 18.101 & 14.727 & \\\\\n",
      "PFS ($\\alpha = 50$) $\\mathscr{{L}}_{13}$ &1.458 & 0.765 & \\textbf{-0.012} & 0.018 & -0.081 & 11.447 & 27.169 & \\\\\n",
      "PFS ($\\alpha = 50$) $\\mathscr{{L}}_9$ &1.390 & 0.845 & -0.378 & -0.215 & -0.718 & 25.833 & 26.554 & \\\\\n",
      "PFS ($\\alpha = 50$) $\\mathscr{{L}}_5$ &1.385 & 0.836 & -0.382 & -0.179 & -0.693 & 11.427 & 21.730 & \\\\\n",
      "\\hline\n",
      "(b) Central & MAE [m/s] & MS-SSIM & $\\mu$ [m/s] & $\\sigma$ [m/s] & $Q^{90}$ [m/s] & $\\xi_{u10}$ [\\%] & $\\xi_{v10}$ [\\%] &\\\\ \\hline\n",
      "CNN &\\textbf{1.027} & 0.841 & -0.265 & -0.170 & -0.551 & 339.842 & 305.612 & \\\\\n",
      "NFS GAN &1.123 & 0.840 & -0.112 & -0.090 & -0.290 & 31.854 & 31.848 & \\\\\n",
      "FS $\\mathscr{{L}}_5$ &1.041 & \\textbf{0.854} & -0.243 & -0.127 & -0.481 & 48.164 & 56.365 & \\\\\n",
      "FS $\\mathscr{{L}}_9$ &1.051 & 0.842 & -0.198 & -0.117 & -0.412 & 44.544 & 51.696 & \\\\\n",
      "FS $\\mathscr{{L}}_{13}$ &1.060 & 0.847 & -0.244 & -0.127 & -0.465 & 42.168 & 47.379 & \\\\\n",
      "PFS ($\\alpha = 500$) $\\mathscr{{L}}_{13}$ &1.158 & 0.830 & -0.150 & -0.060 & -0.278 & 14.727 & 18.195 & \\\\\n",
      "PFS ($\\alpha = 500$) $\\mathscr{{L}}_9$ &1.159 & 0.815 & -0.086 & -0.045 & -0.183 & 18.698 & 10.649 & \\\\\n",
      "PFS ($\\alpha = 500$) $\\mathscr{{L}}_5$ &1.126 & 0.838 & -0.078 & -0.060 & -0.196 & 20.105 & 14.107 & \\\\\n",
      "PFS ($\\alpha = 50$) $\\mathscr{{L}}_{13}$ &1.178 & 0.821 & -0.085 & \\textbf{-0.006} & -0.082 & 8.906 & \\textbf{7.485} & \\\\\n",
      "PFS ($\\alpha = 50$) $\\mathscr{{L}}_9$ &1.183 & 0.836 & 0.037 & -0.035 & \\textbf{-0.022} & \\textbf{7.106} & 11.798 & \\\\\n",
      "PFS ($\\alpha = 50$) $\\mathscr{{L}}_5$ &1.191 & 0.827 & \\textbf{-0.024} & -0.025 & -0.082 & 11.394 & 10.464 & \\\\\n",
      "\\hline\n",
      "(c) West & MAE [m/s] & MS-SSIM & $\\mu$ [m/s] & $\\sigma$ [m/s] & $Q^{90}$ [m/s] & $\\xi_{u10}$ [\\%] & $\\xi_{v10}$ [\\%] &\\\\ \\hline\n",
      "CNN &\\textbf{1.070} & \\textbf{0.896} & -0.404 & -0.204 & -0.669 & 102.749 & 120.479 & \\\\\n",
      "NFS GAN &1.235 & 0.880 & -0.286 & -0.119 & -0.434 & 21.319 & 36.112 & \\\\\n",
      "FS $\\mathscr{{L}}_5$ &1.149 & 0.884 & -0.288 & -0.115 & -0.431 & 30.372 & 28.783 & \\\\\n",
      "FS $\\mathscr{{L}}_9$ &1.169 & 0.883 & -0.201 & -0.067 & -0.280 & 23.910 & 28.796 & \\\\\n",
      "FS $\\mathscr{{L}}_{13}$ &1.173 & 0.881 & -0.218 & -0.064 & -0.295 & 21.861 & 26.162 & \\\\\n",
      "PFS ($\\alpha = 500$) $\\mathscr{{L}}_{13}$ &1.373 & 0.860 & -0.322 & -0.097 & -0.440 & 15.268 & 24.666 & \\\\\n",
      "PFS ($\\alpha = 500$) $\\mathscr{{L}}_9$ &1.361 & 0.865 & -0.289 & -0.092 & -0.389 & 15.578 & 23.791 & \\\\\n",
      "PFS ($\\alpha = 500$) $\\mathscr{{L}}_5$ &1.321 & 0.873 & -0.293 & -0.092 & -0.400 & 19.195 & 26.593 & \\\\\n",
      "PFS ($\\alpha = 50$) $\\mathscr{{L}}_{13}$ &1.422 & 0.851 & -0.358 & -0.111 & -0.498 & 20.034 & 26.672 & \\\\\n",
      "PFS ($\\alpha = 50$) $\\mathscr{{L}}_9$ &1.412 & 0.852 & \\textbf{-0.182} & \\textbf{-0.033} & \\textbf{-0.222} & 18.206 & 17.479 & \\\\\n",
      "PFS ($\\alpha = 50$) $\\mathscr{{L}}_5$ &1.421 & 0.855 & -0.217 & -0.041 & -0.256 & \\textbf{7.418} & \\textbf{16.494} & \\\\\n",
      "\\hline\n"
     ]
    }
   ],
   "source": [
    "print_table(results, model_list)"
   ]
  },
  {
   "cell_type": "code",
   "execution_count": null,
   "id": "e144c871",
   "metadata": {},
   "outputs": [],
   "source": [
    "print_table(results, model_list)"
   ]
  },
  {
   "cell_type": "code",
   "execution_count": null,
   "id": "b6ecc5e9",
   "metadata": {},
   "outputs": [],
   "source": [
    "results['west_PFS (alpha = 500) L_9']"
   ]
  },
  {
   "cell_type": "code",
   "execution_count": null,
   "id": "b1008610",
   "metadata": {},
   "outputs": [],
   "source": [
    "results['west_NFS']"
   ]
  },
  {
   "cell_type": "code",
   "execution_count": null,
   "id": "357ec3eb",
   "metadata": {},
   "outputs": [],
   "source": [
    "# model = model_list['PFS GAN']['(\\\\alpha = 500)'][0]\n",
    "for model in model_list['PFS GAN']:\n",
    "    lr, hr = model.load_test()\n",
    "    sr = SuperResolver(model=model.load_generator(), lr=lr, hr=hr, region=model.region)\n",
    "    hr = sr.super_resolve()\n",
    "    y = sr.ground_truth()\n",
    "    MAE = []\n",
    "    for hr_field, y_field in zip(hr, y):\n",
    "        hr_field = hr_field.flatten().cpu().detach()\n",
    "        y_field = y_field.flatten().cpu().detach()\n",
    "\n",
    "        MAE.append(\n",
    "            torch.mean(\n",
    "                torch.abs(hr_field - y_field)\n",
    "            )\n",
    "        )\n",
    "    print(f\"{model.region} {model.sr_model_name} MAE: {np.mean(MAE)}\")\n",
    "\n"
   ]
  },
  {
   "cell_type": "code",
   "execution_count": null,
   "id": "bd5712bc",
   "metadata": {},
   "outputs": [],
   "source": []
  }
 ],
 "metadata": {
  "kernelspec": {
   "display_name": "Python 3 (ipykernel)",
   "language": "python",
   "name": "python3"
  },
  "vscode": {
   "interpreter": {
    "hash": "916dbcbb3f70747c44a77c7bcd40155683ae19c65e1c03b4aa3499c5328201f1"
   }
  }
 },
 "nbformat": 4,
 "nbformat_minor": 5
}
