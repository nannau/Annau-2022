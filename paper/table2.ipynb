{
 "cells": [
  {
   "cell_type": "code",
   "execution_count": 1,
   "id": "ff504d37",
   "metadata": {},
   "outputs": [],
   "source": [
    "from Annau2022.models import generator, critic\n",
    "from Annau2022.SRModel import SRModelData, SuperResolver\n",
    "from Annau2022.RAPSD import compute_rapsd\n",
    "from Annau2022.progress_bar import progress_bar\n",
    "\n",
    "import torch\n",
    "import torch.utils.data as data_utils\n",
    "import numpy as np\n",
    "import pytorch_msssim\n",
    "\n",
    "import matplotlib.pyplot as plt\n",
    "import matplotlib\n",
    "\n",
    "matplotlib.rcParams.update({\n",
    "    \"text.usetex\": True,\n",
    "    \"font.family\": \"serif\",\n",
    "    \"font.serif\": [\"Computer Modern Roman\"],\n",
    "    \"font.size\": 14,\n",
    "    'mathtext.default': 'regular',\n",
    "    'text.latex.preamble': r'\\usepackage{mathrsfs}'\n",
    "    })\n"
   ]
  },
  {
   "cell_type": "code",
   "execution_count": 2,
   "id": "a1fd3bef",
   "metadata": {},
   "outputs": [],
   "source": [
    "pfs_path = \"/workspace/Annau2022/data/pfs_data/\"\n",
    "\n",
    "model_list = [\n",
    "        # PFS GANs alpha 500\n",
    "        SRModelData(region=\"southeast\", sr_model_name=\"PFS (\\\\alpha = 500) L_13\", exp_id=\"3d2ea1e5f805454ea485a3a7c783fd5a\", data_path=pfs_path),\n",
    "        SRModelData(region=\"southeast\", sr_model_name=\"PFS (\\\\alpha = 500) L_9\", exp_id=\"caf7f501306848f8bc746605c4994e31\", data_path=pfs_path),\n",
    "        SRModelData(region=\"southeast\", sr_model_name=\"PFS (\\\\alpha = 500) L_5\", exp_id=\"90375b9266eb442cb15073895e14d691\", data_path=pfs_path),\n",
    "        SRModelData(region=\"central\", sr_model_name=\"PFS (\\\\alpha = 500) L_13\", exp_id=\"c5154f8f03c74cba924d789357e5ca84\", data_path=pfs_path),\n",
    "        SRModelData(region=\"central\", sr_model_name=\"PFS (\\\\alpha = 500) L_9\", exp_id=\"e54c953370974e2db09a37e9c0c7cdb5\", data_path=pfs_path),\n",
    "        SRModelData(region=\"central\", sr_model_name=\"PFS (\\\\alpha = 500) L_5\", exp_id=\"1570ac86f8e94e83b85447618ca576f5\", data_path=pfs_path),\n",
    "        SRModelData(region=\"west\", sr_model_name=\"PFS (\\\\alpha = 500) L_13\", exp_id=\"2e78fba6814545f0be62896cd14b031f\", data_path=pfs_path),\n",
    "        SRModelData(region=\"west\", sr_model_name=\"PFS (\\\\alpha = 500) L_9\", exp_id=\"ad5772150e7547ee8d14aa7bac192f54\", data_path=pfs_path),\n",
    "        SRModelData(region=\"west\", sr_model_name=\"PFS (\\alpha = 500) L_5\", exp_id=\"c5c5e0e8aad5411783329f31db91ff78\", data_path=pfs_path),\n",
    "\n",
    "        # PFS GANs alpha 50\n",
    "        SRModelData(region=\"southeast\", sr_model_name=\"PFS (\\\\alpha = 50) L_13\", exp_id=\"5c9745ff961e46f9af206d36b6567fae\", data_path=pfs_path),\n",
    "        SRModelData(region=\"southeast\", sr_model_name=\"PFS (\\\\alpha = 50) L_9\", exp_id=\"3858c673c9344e7caf24144335981752\", data_path=pfs_path),\n",
    "        SRModelData(region=\"southeast\", sr_model_name=\"PFS (\\\\alpha = 50) L_5\", exp_id=\"328e5221158147a9ba9b41ab2ac385c7\", data_path=pfs_path),\n",
    "        SRModelData(region=\"central\", sr_model_name=\"PFS (\\\\alpha = 50) L_13\", exp_id=\"eedf0cd864204866b98e5de5e710f9c3\", data_path=pfs_path),\n",
    "        SRModelData(region=\"central\", sr_model_name=\"PFS (\\\\alpha = 50) L_9\", exp_id=\"1d568d304d7546f78c57e98ff1366b9d\", data_path=pfs_path),\n",
    "        SRModelData(region=\"central\", sr_model_name=\"PFS (\\\\alpha = 50) L_5\", exp_id=\"9400ee7db2004aa3b03e91ff710061eb\", data_path=pfs_path),\n",
    "        SRModelData(region=\"west\", sr_model_name=\"PFS (\\\\alpha = 50) L_13\", exp_id=\"faa34028b516487185c994f48621050a\", data_path=pfs_path),\n",
    "        SRModelData(region=\"west\", sr_model_name=\"PFS (\\\\alpha = 50) L_9\", exp_id=\"2faf762448b54ae2b96234d6c77c38b3\", data_path=pfs_path),\n",
    "        SRModelData(region=\"west\", sr_model_name=\"PFS (\\\\alpha = 50) L_5\", exp_id=\"4f0574ec4f7147f1b0555cafeb1cc98f\", data_path=pfs_path),\n",
    "\n",
    "        # CNNs\n",
    "        SRModelData(region=\"southeast\", sr_model_name=\"CNN\", exp_id=\"e25c6b40324643c3afc1cf42981b11b5\"),\n",
    "        SRModelData(region=\"central\", sr_model_name=\"CNN\", exp_id=\"fbe44b0423204805bc6af4d7d6ac562e\"),\n",
    "        SRModelData(region=\"west\", sr_model_name=\"CNN\", exp_id=\"f76c0170818244629de4544805f93a59\"),\n",
    "\n",
    "        # NFS GANs\n",
    "        SRModelData(region=\"southeast\", sr_model_name=\"NFS\", exp_id=\"feda42500d2b45549be96f1bf62b0b03\"),\n",
    "        SRModelData(region=\"central\", sr_model_name=\"NFS\", exp_id=\"0c5ee480663f4f9eb7200f8879aa1244\"),\n",
    "        SRModelData(region=\"west\", sr_model_name=\"NFS\", exp_id=\"db9f0fae83c949eaad5d1176a43dae47\"),\n",
    "\n",
    "        # FS GANs\n",
    "        SRModelData(region=\"southeast\", sr_model_name=\"L_5\", exp_id=\"1824682ae27c48669665cf042052d584\"),\n",
    "        SRModelData(region=\"southeast\", sr_model_name=\"L_9\", exp_id=\"3f48868c52404eb0a833897aa4642871\"),\n",
    "        SRModelData(region=\"southeast\", sr_model_name=\"L_13\", exp_id=\"e1d15a0615ca489aa6a17ec60247d0af\"),\n",
    "        SRModelData(region=\"central\", sr_model_name=\"L_5\", exp_id=\"202ea9f8a73b401fa22e62c24d9ab2d0\"),\n",
    "        SRModelData(region=\"central\", sr_model_name=\"L_9\", exp_id=\"079a94c41ad3482996cc2b9f95adba8d\"),\n",
    "        SRModelData(region=\"central\", sr_model_name=\"L_13\", exp_id=\"bcf7e7cfa8ab4c4196ad6a2bb18e8601\"),\n",
    "        SRModelData(region=\"west\", sr_model_name=\"L_5\", exp_id=\"70f5be887eff42e8a216780752644b2f\"),\n",
    "        SRModelData(region=\"west\", sr_model_name=\"L_9\", exp_id=\"6abe7a9940c04b47819689070100e5e6\"),\n",
    "        SRModelData(region=\"west\", sr_model_name=\"L_13\", exp_id=\"c4ec13e65fe74b399fc9e325a9966fef\"),\n",
    "]"
   ]
  },
  {
   "cell_type": "code",
   "execution_count": 3,
   "id": "112c5cdb",
   "metadata": {},
   "outputs": [],
   "source": [
    "# Store results\n",
    "# Model name -> metric -> value\n",
    "results = {f\"{model.region}_{model.sr_model_name}\" : {} for model in model_list}"
   ]
  },
  {
   "attachments": {},
   "cell_type": "markdown",
   "id": "569f3f8b",
   "metadata": {},
   "source": [
    "### 1. Pixel-wise MAE\n",
    "$|G(\\textbf{x}) - \\textbf{y}|_1$"
   ]
  },
  {
   "cell_type": "code",
   "execution_count": 5,
   "id": "2220032a",
   "metadata": {},
   "outputs": [
    {
     "name": "stderr",
     "output_type": "stream",
     "text": [
      "/opt/conda/lib/python3.8/site-packages/numpy/core/fromnumeric.py:3474: RuntimeWarning: Mean of empty slice.\n",
      "  return _methods._mean(a, axis=axis, dtype=dtype,\n",
      "/opt/conda/lib/python3.8/site-packages/numpy/core/_methods.py:189: RuntimeWarning: invalid value encountered in double_scalars\n",
      "  ret = ret.dtype.type(ret / rcount)\n"
     ]
    },
    {
     "name": "stdout",
     "output_type": "stream",
     "text": [
      "Progress: [------>             ] 39%\r"
     ]
    },
    {
     "ename": "",
     "evalue": "",
     "output_type": "error",
     "traceback": [
      "\u001b[1;31mFailed to restart the Kernel. \n",
      "\u001b[1;31mrequest to http://localhost:8888/api/kernels/52681fbf-66c0-4e0b-924a-a57ab87fd822/restart?1673838994068 failed, reason: read ECONNRESET. \n",
      "\u001b[1;31mView Jupyter <a href='command:jupyter.viewOutput'>log</a> for further details."
     ]
    }
   ],
   "source": [
    "from functools import partial\n",
    "\n",
    "def compute_mae(x, y):\n",
    "    return torch.mean(torch.abs(x - y))\n",
    "\n",
    "def mean_stats(x, y, f):\n",
    "    sx = torch.hypot(x[:, 0, ...], x[:, 1, ...])\n",
    "    sy = torch.hypot(y[:, 0, ...], y[:, 1, ...])\n",
    "\n",
    "    sx = f(sx)\n",
    "    sy = f(sy)\n",
    "\n",
    "    return torch.mean(sx - sy)\n",
    "\n",
    "def median_symmetric_accuracy(x, y):\n",
    "    return 100*(np.exp(np.median(np.abs(np.log(y/x))))-1)\n",
    "\n",
    "def compute_ms_ssim(x, y):\n",
    "    x[:, 0, ...] = (x[:, 0, ...] - torch.min(x[:, 0, ...])) / (torch.max(x[:, 0, ...]) - torch.min(x[:, 0, ...]))\n",
    "    y[:, 0, ...] = (y[:, 0, ...] - torch.min(y[:, 0, ...])) / (torch.max(y[:, 0, ...]) - torch.min(y[:, 0, ...]))\n",
    "\n",
    "    x[:, 1, ...] = (x[:, 1, ...] - torch.min(x[:, 1, ...])) / (torch.max(x[:, 1, ...]) - torch.min(x[:, 1, ...]))\n",
    "    y[:, 1, ...] = (y[:, 1, ...] - torch.min(y[:, 1, ...])) / (torch.max(y[:, 1, ...]) - torch.min(y[:, 1, ...]))\n",
    "\n",
    "    return pytorch_msssim.msssim(x, y, window_size=7)\n",
    "\n",
    "for model in model_list:\n",
    "    lr, hr = model.load_test()\n",
    "    sr = SuperResolver(model=model.load_generator(), lr=lr, hr=hr, region=model.region)\n",
    "    hr = sr.super_resolve()\n",
    "    y = sr.ground_truth()\n",
    "\n",
    "    mae = np.empty(lr.shape[0])\n",
    "    bias_spatial_mean = np.empty(lr.shape[0])\n",
    "    bias_spatial_std = np.empty(lr.shape[0])\n",
    "    bias_spatial_q90 = np.empty(lr.shape[0])\n",
    "    ms_ssim_score = np.empty(lr.shape[0])\n",
    "\n",
    "    hr_fields = torch.cat([x.cpu().detach() for x in hr], dim = 0)\n",
    "    y_fields = torch.cat([x.cpu().detach() for x in y], dim = 0)\n",
    "    print(hr_fields.shape, y_fields.shape)\n",
    "\n",
    "    key_str = f\"{model.region}_{model.sr_model_name}\"\n",
    "\n",
    "    results[key_str][\"MAE\"] = compute_mae(hr_fields.flatten(), y_fields.flatten()).item()\n",
    "    results[key_str][\"bias_spatial_mean\"] = mean_stats(hr_fields, y_fields, partial(torch.mean, dim=0)).item()\n",
    "    results[key_str][\"bias_spatial_std\"] = mean_stats(hr_fields, y_fields, partial(torch.std, dim=0)).item()\n",
    "    results[key_str][\"bias_spatial_q90\"] = mean_stats(hr_fields, y_fields, partial(torch.quantile, dim=0, q=0.90)).item()\n",
    "    results[key_str][\"ms_ssim_score\"] = compute_ms_ssim(hr_fields, y_fields).item()\n",
    "    results[key_str][\"median_symmetric_accuracy_u10\"] = median_symmetric_accuracy(compute_rapsd(hr)[\"u10\"], compute_rapsd(y)[\"u10\"]).item()\n",
    "    results[key_str][\"median_symmetric_accuracy_v10\"] = median_symmetric_accuracy(compute_rapsd(hr)[\"v10\"], compute_rapsd(y)[\"v10\"]).item()\n",
    "\n",
    "    progress_bar(model_list.index(model), len(model_list))\n",
    "\n"
   ]
  },
  {
   "cell_type": "code",
   "execution_count": 22,
   "id": "e6917826",
   "metadata": {},
   "outputs": [
    {
     "data": {
      "text/plain": [
       "{'MAE': 1.623870611190796,\n",
       " 'bias_spatial_mean': -0.5267322659492493,\n",
       " 'bias_spatial_std': -0.27058449387550354,\n",
       " 'bias_spatial_q90': -0.9021158814430237,\n",
       " 'ms_ssim_score': 0.820134699344635}"
      ]
     },
     "execution_count": 22,
     "metadata": {},
     "output_type": "execute_result"
    }
   ],
   "source": [
    "results['southeast_PFS (\\\\alpha = 500) L_9']"
   ]
  },
  {
   "cell_type": "code",
   "execution_count": null,
   "id": "2d5bed3b",
   "metadata": {},
   "outputs": [
    {
     "name": "stdout",
     "output_type": "stream",
     "text": [
      "southeast PFS (\u0007lpha = 500) L_13 MAE: 1.3976166248321533\n",
      "southeast PFS (\u0007lpha = 500) L_9 MAE: 1.4027231931686401\n",
      "southeast PFS (\u0007lpha = 500) L_5 MAE: 1.3592710494995117\n",
      "central PFS (\u0007lpha = 500) L_13 MAE: 1.1967296600341797\n",
      "central PFS (\u0007lpha = 500) L_9 MAE: 1.1960387229919434\n",
      "central PFS (\u0007lpha = 500) L_5 MAE: 1.1584988832473755\n",
      "west PFS (\u0007lpha = 500) L_13 MAE: 1.3590545654296875\n",
      "west PFS (\u0007lpha = 500) L_9 MAE: 1.3454322814941406\n",
      "west PFS (\u0007lpha = 500) L_5 MAE: 1.3030283451080322\n",
      "southeast PFS (\u0007lpha = 50) L_13 MAE: 1.4911034107208252\n",
      "southeast PFS (\u0007lpha = 50) L_9 MAE: 1.4329015016555786\n",
      "southeast PFS (\u0007lpha = 50) L_5 MAE: 1.4113613367080688\n",
      "central PFS (\u0007lpha = 50) L_13 MAE: 1.2291878461837769\n",
      "central PFS (\u0007lpha = 50) L_9 MAE: 1.227510690689087\n",
      "central PFS (\u0007lpha = 50) L_5 MAE: 1.2410467863082886\n",
      "west PFS (\u0007lpha = 50) L_13 MAE: 1.4131944179534912\n",
      "west PFS (\u0007lpha = 50) L_9 MAE: 1.410981297492981\n",
      "west PFS (\u0007lpha = 50) L_5 MAE: 1.4086753129959106\n"
     ]
    }
   ],
   "source": [
    "# model = model_list['PFS GAN']['(\\\\alpha = 500)'][0]\n",
    "for model in model_list['PFS GAN']:\n",
    "    lr, hr = model.load_test()\n",
    "    sr = SuperResolver(model=model.load_generator(), lr=lr, hr=hr, region=model.region)\n",
    "    hr = sr.super_resolve()\n",
    "    y = sr.ground_truth()\n",
    "    MAE = []\n",
    "    for hr_field, y_field in zip(hr, y):\n",
    "        hr_field = hr_field.flatten().cpu().detach()\n",
    "        y_field = y_field.flatten().cpu().detach()\n",
    "\n",
    "        MAE.append(\n",
    "            torch.mean(\n",
    "                torch.abs(hr_field - y_field)\n",
    "            )\n",
    "        )\n",
    "    print(f\"{model.region} {model.sr_model_name} MAE: {np.mean(MAE)}\")\n",
    "\n"
   ]
  },
  {
   "cell_type": "code",
   "execution_count": null,
   "id": "4ebd36db",
   "metadata": {},
   "outputs": [],
   "source": []
  }
 ],
 "metadata": {
  "kernelspec": {
   "display_name": "Python 3",
   "language": "python",
   "name": "python3"
  },
  "language_info": {
   "codemirror_mode": {
    "name": "ipython",
    "version": 3
   },
   "file_extension": ".py",
   "mimetype": "text/x-python",
   "name": "python",
   "nbconvert_exporter": "python",
   "pygments_lexer": "ipython3",
   "version": "3.8.10 (default, Nov 14 2022, 12:59:47) \n[GCC 9.4.0]"
  },
  "vscode": {
   "interpreter": {
    "hash": "916dbcbb3f70747c44a77c7bcd40155683ae19c65e1c03b4aa3499c5328201f1"
   }
  }
 },
 "nbformat": 4,
 "nbformat_minor": 5
}
