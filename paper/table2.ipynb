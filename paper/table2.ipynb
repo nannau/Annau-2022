{
 "cells": [
  {
   "cell_type": "code",
   "execution_count": 1,
   "id": "2a2f4a84",
   "metadata": {},
   "outputs": [],
   "source": [
    "from Annau2022.models import generator, critic\n",
    "from Annau2022.SRModel import SRModelData, SuperResolver\n",
    "from Annau2022.RAPSD import compute_rapsd\n",
    "from Annau2022.progress_bar import progress_bar\n",
    "\n",
    "import math\n",
    "import torch\n",
    "import torch.utils.data as data_utils\n",
    "import numpy as np\n",
    "import pytorch_msssim\n",
    "\n",
    "import matplotlib.pyplot as plt\n",
    "import matplotlib\n",
    "\n",
    "matplotlib.rcParams.update({\n",
    "    \"text.usetex\": True,\n",
    "    \"font.family\": \"serif\",\n",
    "    \"font.serif\": [\"Computer Modern Roman\"],\n",
    "    \"font.size\": 14,\n",
    "    'mathtext.default': 'regular',\n",
    "    'text.latex.preamble': r'\\usepackage{mathrsfs}'\n",
    "    })\n"
   ]
  },
  {
   "cell_type": "code",
   "execution_count": 2,
   "id": "407de76f",
   "metadata": {},
   "outputs": [],
   "source": [
    "pfs_path = \"/workspace/Annau2022/data/pfs_data/\"\n",
    "\n",
    "model_list = [\n",
    "        # CNNs\n",
    "        SRModelData(region=\"southeast\", sr_model_name=\"CNN\", exp_id=\"e25c6b40324643c3afc1cf42981b11b5\"),\n",
    "        SRModelData(region=\"central\", sr_model_name=\"CNN\", exp_id=\"fbe44b0423204805bc6af4d7d6ac562e\"),\n",
    "        SRModelData(region=\"west\", sr_model_name=\"CNN\", exp_id=\"f76c0170818244629de4544805f93a59\"),\n",
    "\n",
    "        # NFS GANs\n",
    "        SRModelData(region=\"southeast\", sr_model_name=\"NFS\", exp_id=\"feda42500d2b45549be96f1bf62b0b03\"),\n",
    "        SRModelData(region=\"central\", sr_model_name=\"NFS\", exp_id=\"0c5ee480663f4f9eb7200f8879aa1244\"),\n",
    "        SRModelData(region=\"west\", sr_model_name=\"NFS\", exp_id=\"db9f0fae83c949eaad5d1176a43dae47\"),\n",
    "\n",
    "        # FS GANs\n",
    "        SRModelData(region=\"southeast\", sr_model_name=\"L_5\", exp_id=\"1824682ae27c48669665cf042052d584\"),\n",
    "        SRModelData(region=\"southeast\", sr_model_name=\"L_9\", exp_id=\"3f48868c52404eb0a833897aa4642871\"),\n",
    "        SRModelData(region=\"southeast\", sr_model_name=\"L_13\", exp_id=\"e1d15a0615ca489aa6a17ec60247d0af\"),\n",
    "        SRModelData(region=\"central\", sr_model_name=\"L_5\", exp_id=\"202ea9f8a73b401fa22e62c24d9ab2d0\"),\n",
    "        SRModelData(region=\"central\", sr_model_name=\"L_9\", exp_id=\"079a94c41ad3482996cc2b9f95adba8d\"),\n",
    "        SRModelData(region=\"central\", sr_model_name=\"L_13\", exp_id=\"bcf7e7cfa8ab4c4196ad6a2bb18e8601\"),\n",
    "        SRModelData(region=\"west\", sr_model_name=\"L_5\", exp_id=\"70f5be887eff42e8a216780752644b2f\"),\n",
    "        SRModelData(region=\"west\", sr_model_name=\"L_9\", exp_id=\"6abe7a9940c04b47819689070100e5e6\"),\n",
    "        SRModelData(region=\"west\", sr_model_name=\"L_13\", exp_id=\"c4ec13e65fe74b399fc9e325a9966fef\"),\n",
    "        # PFS GANs alpha 500\n",
    "        SRModelData(region=\"southeast\", sr_model_name=\"PFS (alpha = 500) L_13\", exp_id=\"3d2ea1e5f805454ea485a3a7c783fd5a\", data_path=pfs_path),\n",
    "        SRModelData(region=\"southeast\", sr_model_name=\"PFS (alpha = 500) L_9\", exp_id=\"caf7f501306848f8bc746605c4994e31\", data_path=pfs_path),\n",
    "        SRModelData(region=\"southeast\", sr_model_name=\"PFS (alpha = 500) L_5\", exp_id=\"90375b9266eb442cb15073895e14d691\", data_path=pfs_path),\n",
    "        SRModelData(region=\"central\", sr_model_name=\"PFS (alpha = 500) L_13\", exp_id=\"c5154f8f03c74cba924d789357e5ca84\", data_path=pfs_path),\n",
    "        SRModelData(region=\"central\", sr_model_name=\"PFS (alpha = 500) L_9\", exp_id=\"e54c953370974e2db09a37e9c0c7cdb5\", data_path=pfs_path),\n",
    "        SRModelData(region=\"central\", sr_model_name=\"PFS (alpha = 500) L_5\", exp_id=\"1570ac86f8e94e83b85447618ca576f5\", data_path=pfs_path),\n",
    "        SRModelData(region=\"west\", sr_model_name=\"PFS (alpha = 500) L_13\", exp_id=\"2e78fba6814545f0be62896cd14b031f\", data_path=pfs_path),\n",
    "        SRModelData(region=\"west\", sr_model_name=\"PFS (alpha = 500) L_9\", exp_id=\"ad5772150e7547ee8d14aa7bac192f54\", data_path=pfs_path),\n",
    "        SRModelData(region=\"west\", sr_model_name=\"PFS (alpha = 500) L_5\", exp_id=\"c5c5e0e8aad5411783329f31db91ff78\", data_path=pfs_path),\n",
    "\n",
    "        # PFS GANs alpha 50\n",
    "        SRModelData(region=\"southeast\", sr_model_name=\"PFS (alpha = 50) L_13\", exp_id=\"5c9745ff961e46f9af206d36b6567fae\", data_path=pfs_path),\n",
    "        SRModelData(region=\"southeast\", sr_model_name=\"PFS (alpha = 50) L_9\", exp_id=\"3858c673c9344e7caf24144335981752\", data_path=pfs_path),\n",
    "        SRModelData(region=\"southeast\", sr_model_name=\"PFS (alpha = 50) L_5\", exp_id=\"328e5221158147a9ba9b41ab2ac385c7\", data_path=pfs_path),\n",
    "        SRModelData(region=\"central\", sr_model_name=\"PFS (alpha = 50) L_13\", exp_id=\"eedf0cd864204866b98e5de5e710f9c3\", data_path=pfs_path),\n",
    "        SRModelData(region=\"central\", sr_model_name=\"PFS (alpha = 50) L_9\", exp_id=\"1d568d304d7546f78c57e98ff1366b9d\", data_path=pfs_path),\n",
    "        SRModelData(region=\"central\", sr_model_name=\"PFS (alpha = 50) L_5\", exp_id=\"9400ee7db2004aa3b03e91ff710061eb\", data_path=pfs_path),\n",
    "        SRModelData(region=\"west\", sr_model_name=\"PFS (alpha = 50) L_13\", exp_id=\"faa34028b516487185c994f48621050a\", data_path=pfs_path),\n",
    "        SRModelData(region=\"west\", sr_model_name=\"PFS (alpha = 50) L_9\", exp_id=\"2faf762448b54ae2b96234d6c77c38b3\", data_path=pfs_path),\n",
    "        SRModelData(region=\"west\", sr_model_name=\"PFS (alpha = 50) L_5\", exp_id=\"4f0574ec4f7147f1b0555cafeb1cc98f\", data_path=pfs_path),\n",
    "\n",
    "]"
   ]
  },
  {
   "cell_type": "code",
   "execution_count": 3,
   "id": "ef1903a5",
   "metadata": {},
   "outputs": [],
   "source": [
    "# Store results\n",
    "# Model name -> metric -> value\n",
    "results = {f\"{model.region}_{model.sr_model_name}\" : {} for model in model_list}"
   ]
  },
  {
   "cell_type": "markdown",
   "id": "5435c71d",
   "metadata": {},
   "source": [
    "### 1. Pixel-wise MAE\n",
    "$|G(\\textbf{x}) - \\textbf{y}|_1$"
   ]
  },
  {
   "cell_type": "code",
   "execution_count": 4,
   "id": "f16a701a",
   "metadata": {},
   "outputs": [
    {
     "name": "stdout",
     "output_type": "stream",
     "text": [
      "Progress: [------------------> ] 96%\r"
     ]
    }
   ],
   "source": [
    "from functools import partial\n",
    "\n",
    "def compute_mae(x, y):\n",
    "    return torch.mean(torch.abs(x - y))\n",
    "\n",
    "def mean_stats(x, y, f):\n",
    "    sx = torch.hypot(x[:, 0, ...], x[:, 1, ...])\n",
    "    sy = torch.hypot(y[:, 0, ...], y[:, 1, ...])\n",
    "\n",
    "    sx = f(sx)\n",
    "    sy = f(sy)\n",
    "\n",
    "    return torch.mean(sx - sy)\n",
    "\n",
    "def median_symmetric_accuracy(x, y):\n",
    "    return 100*(np.exp(np.median(np.abs(np.log(y/x))))-1)\n",
    "\n",
    "def compute_ms_ssim(x, y):\n",
    "    x[:, 0, ...] = (x[:, 0, ...] - torch.min(x[:, 0, ...])) / (torch.max(x[:, 0, ...]) - torch.min(x[:, 0, ...]))\n",
    "    y[:, 0, ...] = (y[:, 0, ...] - torch.min(y[:, 0, ...])) / (torch.max(y[:, 0, ...]) - torch.min(y[:, 0, ...]))\n",
    "\n",
    "    x[:, 1, ...] = (x[:, 1, ...] - torch.min(x[:, 1, ...])) / (torch.max(x[:, 1, ...]) - torch.min(x[:, 1, ...]))\n",
    "    y[:, 1, ...] = (y[:, 1, ...] - torch.min(y[:, 1, ...])) / (torch.max(y[:, 1, ...]) - torch.min(y[:, 1, ...]))\n",
    "\n",
    "    return pytorch_msssim.msssim(x, y, window_size=7)\n",
    "\n",
    "for model in model_list:\n",
    "    progress_bar(model_list.index(model), len(model_list))\n",
    "\n",
    "    key_str = f\"{model.region}_{model.sr_model_name}\"\n",
    "    \n",
    "    lr, hr = model.load_test()\n",
    "    sr = SuperResolver(model=model.load_generator(), lr=lr, hr=hr, region=model.region)\n",
    "    hr = sr.super_resolve()\n",
    "    y = sr.ground_truth()\n",
    "\n",
    "    mae = np.empty(lr.shape[0])\n",
    "    bias_spatial_mean = np.empty(lr.shape[0])\n",
    "    bias_spatial_std = np.empty(lr.shape[0])\n",
    "    bias_spatial_q90 = np.empty(lr.shape[0])\n",
    "    ms_ssim_score = np.empty(lr.shape[0])\n",
    "\n",
    "    hr_fields = torch.cat([x.cpu().detach() for x in hr], dim = 0)\n",
    "    y_fields = torch.cat([x.cpu().detach() for x in y], dim = 0)\n",
    "\n",
    "    hr_spectra = compute_rapsd(hr_fields.unsqueeze(1))\n",
    "    y_spectra = compute_rapsd(y_fields.unsqueeze(1))\n",
    "\n",
    "    model_results =  dict(\n",
    "        mae = compute_mae(hr_fields.flatten(), y_fields.flatten()).item(),\n",
    "        ms_ssim_score = compute_ms_ssim(hr_fields, y_fields).item(),\n",
    "        bias_spatial_mean = mean_stats(hr_fields, y_fields, partial(torch.mean, dim=0)).item(),\n",
    "        bias_spatial_std = mean_stats(hr_fields, y_fields, partial(torch.std, dim=0)).item(),\n",
    "        bias_spatial_q90 = mean_stats(hr_fields, y_fields, partial(torch.quantile, dim=0, q=0.90)).item(),\n",
    "        median_symmetric_accuracy_u10 = median_symmetric_accuracy(hr_spectra[\"u10\"], y_spectra[\"u10\"]),\n",
    "        median_symmetric_accuracy_v10 = median_symmetric_accuracy(hr_spectra[\"v10\"], y_spectra[\"v10\"]),\n",
    "    )\n",
    "    results[key_str] = model_results\n"
   ]
  },
  {
   "cell_type": "code",
   "execution_count": 8,
   "id": "25be4305",
   "metadata": {},
   "outputs": [],
   "source": [
    "# results"
   ]
  },
  {
   "cell_type": "code",
   "execution_count": 9,
   "id": "87caec78",
   "metadata": {},
   "outputs": [],
   "source": [
    "def print_table(results, model_list):\n",
    "    alphabet = {\"southeast\": \"(a)\", \"central\": \"(b)\", \"west\": \"(c)\"}\n",
    "    latex_nameref = {\n",
    "        \"PFS (alpha = 500) L_13\": \"PFS ($\\\\alpha = 500$) $\\\\mathscr{{L}}_{13}$\",\n",
    "        \"PFS (alpha = 500) L_9\": \"PFS ($\\\\alpha = 500$) $\\\\mathscr{{L}}_9$\",\n",
    "        \"PFS (alpha = 500) L_5\": \"PFS ($\\\\alpha = 500$) $\\\\mathscr{{L}}_5$\",\n",
    "        \"PFS (alpha = 50) L_13\": \"PFS ($\\\\alpha = 50$) $\\\\mathscr{{L}}_{13}$\",\n",
    "        \"PFS (alpha = 50) L_9\": \"PFS ($\\\\alpha = 50$) $\\\\mathscr{{L}}_9$\",\n",
    "        \"PFS (alpha = 50) L_5\": \"PFS ($\\\\alpha = 50$) $\\\\mathscr{{L}}_5$\",\n",
    "        \"NFS\": \"NFS GAN\",\n",
    "        \"L_13\": \"FS $\\\\mathscr{{L}}_{13}$\",\n",
    "        \"L_9\": \"FS $\\\\mathscr{{L}}_9$\",\n",
    "        \"L_5\": \"FS $\\\\mathscr{{L}}_5$\",\n",
    "        \"CNN\": \"CNN\",\n",
    "        }\n",
    "    lines = []\n",
    "    for region, value in alphabet.items():\n",
    "        print(\n",
    "            f\"{value} {region.capitalize()} & MAE [m/s] & MS-SSIM & $\\mu$ [m/s] & $\\sigma$ [m/s] & $Q^{{90}}$ [m/s] & $\\\\xi_{{u10}}$ [\\\\%] & $\\\\xi_{{v10}}$ [\\\\%] &\\\\\\\\ \\hline\"\n",
    "        )\n",
    "\n",
    "        metric_dict = {}\n",
    "        for metric in results[\"west_NFS\"].keys():\n",
    "            metric_dict[metric] = []\n",
    "            for model in model_list:\n",
    "                if model.region == region:\n",
    "                    metric_dict[metric].append(results[f\"{model.region}_{model.sr_model_name}\"][metric])\n",
    "\n",
    "            if metric == \"ms_ssim_score\":\n",
    "                metric_dict[metric] = round(np.array(metric_dict[metric]).max(), 3)\n",
    "            else:\n",
    "                metric_dict[metric] = round(min(metric_dict[metric], key=abs), 3)\n",
    "\n",
    "        for model in model_list:\n",
    "            if model.region == region:\n",
    "                print(f\"{latex_nameref[model.sr_model_name]}\", end=\" &\")\n",
    "                for metric in results[f\"{model.region}_{model.sr_model_name}\"].keys():\n",
    "                    result_value_comp = round(results[f\"{model.region}_{model.sr_model_name}\"][metric], 3)\n",
    "                    result_value = results[f\"{model.region}_{model.sr_model_name}\"][metric]\n",
    "                    if math.isclose(\n",
    "                        metric_dict[metric],\n",
    "                        result_value_comp\n",
    "                    ):\n",
    "                        if math.isclose(result_value_comp, 0.00):\n",
    "                            result_value = 0.00\n",
    "\n",
    "                        print(f\"\\\\textbf{{{result_value:.3f}}}\", end=\" & \")\n",
    "                    else:\n",
    "                        print(f\"{result_value:.3f}\", end=\" & \")\n",
    "                print(\"\\\\\\\\\")\n",
    "\n",
    "        print(f\"\\\\hline\")"
   ]
  },
  {
   "cell_type": "code",
   "execution_count": 10,
   "id": "e144c871",
   "metadata": {},
   "outputs": [
    {
     "name": "stdout",
     "output_type": "stream",
     "text": [
      "(a) Southeast & MAE [m/s] & MS-SSIM & $\\mu$ [m/s] & $\\sigma$ [m/s] & $Q^{90}$ [m/s] & $\\xi_{u10}$ [\\%] & $\\xi_{v10}$ [\\%] &\\\\ \\hline\n",
      "CNN &\\textbf{1.225} & 0.850 & -0.045 & 0.026 & -0.011 & 221.010 & 286.392 & \\\\\n",
      "NFS GAN &1.437 & 0.843 & -0.105 & -0.010 & -0.117 & 6.569 & \\textbf{3.977} & \\\\\n",
      "FS $\\mathscr{{L}}_5$ &1.323 & \\textbf{0.866} & -0.042 & -0.005 & -0.047 & 7.451 & 5.044 & \\\\\n",
      "FS $\\mathscr{{L}}_9$ &1.345 & 0.854 & -0.096 & -0.010 & -0.108 & 6.647 & 8.559 & \\\\\n",
      "FS $\\mathscr{{L}}_{13}$ &1.376 & 0.853 & -0.021 & -0.011 & -0.035 & \\textbf{2.955} & 5.130 & \\\\\n",
      "PFS ($\\alpha = 500$) $\\mathscr{{L}}_{13}$ &1.597 & 0.819 & -0.043 & \\textbf{-0.004} & -0.047 & 9.625 & 9.465 & \\\\\n",
      "PFS ($\\alpha = 500$) $\\mathscr{{L}}_9$ &1.624 & 0.820 & \\textbf{0.013} & -0.010 & \\textbf{0.000} & 14.451 & 14.726 & \\\\\n",
      "PFS ($\\alpha = 500$) $\\mathscr{{L}}_5$ &1.587 & 0.827 & -0.034 & -0.008 & -0.044 & 11.803 & 8.789 & \\\\\n",
      "PFS ($\\alpha = 50$) $\\mathscr{{L}}_{13}$ &1.545 & 0.828 & -0.045 & -0.029 & -0.082 & 23.690 & 20.173 & \\\\\n",
      "PFS ($\\alpha = 50$) $\\mathscr{{L}}_9$ &1.510 & 0.834 & -0.096 & -0.009 & -0.106 & 9.491 & 10.384 & \\\\\n",
      "PFS ($\\alpha = 50$) $\\mathscr{{L}}_5$ &1.485 & 0.838 & -0.053 & -0.006 & -0.059 & 8.267 & 16.435 & \\\\\n",
      "\\hline\n",
      "(b) Central & MAE [m/s] & MS-SSIM & $\\mu$ [m/s] & $\\sigma$ [m/s] & $Q^{90}$ [m/s] & $\\xi_{u10}$ [\\%] & $\\xi_{v10}$ [\\%] &\\\\ \\hline\n",
      "CNN &\\textbf{1.044} & 0.821 & -0.028 & 0.027 & 0.007 & 344.865 & 311.353 & \\\\\n",
      "NFS GAN &1.168 & 0.830 & -0.123 & -0.010 & -0.134 & 22.114 & 30.084 & \\\\\n",
      "FS $\\mathscr{{L}}_5$ &1.065 & \\textbf{0.842} & \\textbf{0.001} & 0.008 & 0.011 & 47.246 & 56.011 & \\\\\n",
      "FS $\\mathscr{{L}}_9$ &1.081 & 0.821 & -0.019 & 0.016 & 0.003 & 41.519 & 48.878 & \\\\\n",
      "FS $\\mathscr{{L}}_{13}$ &1.092 & 0.835 & -0.068 & 0.001 & -0.065 & 39.861 & 46.050 & \\\\\n",
      "PFS ($\\alpha = 500$) $\\mathscr{{L}}_{13}$ &1.193 & 0.806 & -0.116 & \\textbf{0.000} & -0.115 & 10.283 & 14.070 & \\\\\n",
      "PFS ($\\alpha = 500$) $\\mathscr{{L}}_9$ &1.197 & 0.786 & -0.103 & 0.009 & -0.090 & 13.620 & \\textbf{8.083} & \\\\\n",
      "PFS ($\\alpha = 500$) $\\mathscr{{L}}_5$ &1.158 & 0.808 & -0.099 & 0.008 & -0.086 & 16.523 & 11.131 & \\\\\n",
      "PFS ($\\alpha = 50$) $\\mathscr{{L}}_{13}$ &1.224 & 0.789 & -0.006 & 0.004 & \\textbf{0.000} & \\textbf{8.027} & 12.295 & \\\\\n",
      "PFS ($\\alpha = 50$) $\\mathscr{{L}}_9$ &1.221 & 0.819 & -0.018 & -0.005 & -0.023 & 10.977 & 14.263 & \\\\\n",
      "PFS ($\\alpha = 50$) $\\mathscr{{L}}_5$ &1.235 & 0.784 & -0.053 & 0.008 & -0.042 & 12.690 & 9.769 & \\\\\n",
      "\\hline\n",
      "(c) West & MAE [m/s] & MS-SSIM & $\\mu$ [m/s] & $\\sigma$ [m/s] & $Q^{90}$ [m/s] & $\\xi_{u10}$ [\\%] & $\\xi_{v10}$ [\\%] &\\\\ \\hline\n",
      "CNN &\\textbf{1.115} & \\textbf{0.884} & -0.030 & 0.003 & -0.025 & 109.517 & 130.194 & \\\\\n",
      "NFS GAN &1.256 & 0.865 & 0.003 & 0.001 & \\textbf{0.005} & 14.346 & 22.505 & \\\\\n",
      "FS $\\mathscr{{L}}_5$ &1.197 & 0.872 & -0.028 & 0.003 & -0.022 & 29.319 & 28.594 & \\\\\n",
      "FS $\\mathscr{{L}}_9$ &1.215 & 0.864 & -0.026 & 0.005 & -0.018 & 24.546 & 31.963 & \\\\\n",
      "FS $\\mathscr{{L}}_{13}$ &1.218 & 0.869 & 0.028 & \\textbf{0.000} & 0.028 & 22.183 & 28.044 & \\\\\n",
      "PFS ($\\alpha = 500$) $\\mathscr{{L}}_{13}$ &1.390 & 0.847 & -0.038 & 0.002 & -0.034 & 16.732 & 23.426 & \\\\\n",
      "PFS ($\\alpha = 500$) $\\mathscr{{L}}_9$ &1.377 & 0.854 & -0.027 & 0.002 & -0.024 & 16.146 & 20.907 & \\\\\n",
      "PFS ($\\alpha = 500$) $\\mathscr{{L}}_5$ &1.336 & 0.863 & -0.024 & 0.004 & -0.018 & 19.620 & 24.334 & \\\\\n",
      "PFS ($\\alpha = 50$) $\\mathscr{{L}}_{13}$ &1.441 & 0.838 & -0.034 & -0.002 & -0.035 & 18.538 & 22.081 & \\\\\n",
      "PFS ($\\alpha = 50$) $\\mathscr{{L}}_9$ &1.434 & 0.835 & \\textbf{0.002} & 0.003 & 0.006 & 16.747 & 15.956 & \\\\\n",
      "PFS ($\\alpha = 50$) $\\mathscr{{L}}_5$ &1.438 & 0.838 & -0.023 & 0.003 & -0.017 & \\textbf{8.431} & \\textbf{14.546} & \\\\\n",
      "\\hline\n"
     ]
    }
   ],
   "source": [
    "print_table(results, model_list)"
   ]
  },
  {
   "cell_type": "code",
   "execution_count": 25,
   "id": "b6ecc5e9",
   "metadata": {},
   "outputs": [
    {
     "data": {
      "text/plain": [
       "{'mae': 1.3770686388015747,\n",
       " 'ms_ssim_score': 0.8542086482048035,\n",
       " 'bias_spatial_mean': -0.026783594861626625,\n",
       " 'bias_spatial_std': 0.0016041324706748128,\n",
       " 'bias_spatial_q90': -0.023856569081544876,\n",
       " 'median_symmetric_accuracy_u10': 16.145759766187773,\n",
       " 'median_symmetric_accuracy_v10': 20.906680367535692}"
      ]
     },
     "execution_count": 25,
     "metadata": {},
     "output_type": "execute_result"
    }
   ],
   "source": [
    "results['west_PFS (alpha = 500) L_9']"
   ]
  },
  {
   "cell_type": "code",
   "execution_count": 9,
   "id": "b1008610",
   "metadata": {},
   "outputs": [
    {
     "data": {
      "text/plain": [
       "{'median_symmetric_accuracy_u10': 14.346124081244715,\n",
       " 'median_symmetric_accuracy_v10': 22.505034102917556,\n",
       " 'MAE': 1.2555190324783325,\n",
       " 'bias_spatial_mean': -0.2304215133190155,\n",
       " 'bias_spatial_std': -0.10931239277124405,\n",
       " 'bias_spatial_q90': -0.36636579036712646,\n",
       " 'ms_ssim_score': 0.8646016120910645}"
      ]
     },
     "execution_count": 9,
     "metadata": {},
     "output_type": "execute_result"
    }
   ],
   "source": [
    "results['west_NFS']"
   ]
  },
  {
   "cell_type": "code",
   "execution_count": null,
   "id": "357ec3eb",
   "metadata": {},
   "outputs": [
    {
     "name": "stdout",
     "output_type": "stream",
     "text": [
      "southeast PFS (\u0007lpha = 500) L_13 MAE: 1.3976166248321533\n",
      "southeast PFS (\u0007lpha = 500) L_9 MAE: 1.4027231931686401\n",
      "southeast PFS (\u0007lpha = 500) L_5 MAE: 1.3592710494995117\n",
      "central PFS (\u0007lpha = 500) L_13 MAE: 1.1967296600341797\n",
      "central PFS (\u0007lpha = 500) L_9 MAE: 1.1960387229919434\n",
      "central PFS (\u0007lpha = 500) L_5 MAE: 1.1584988832473755\n",
      "west PFS (\u0007lpha = 500) L_13 MAE: 1.3590545654296875\n",
      "west PFS (\u0007lpha = 500) L_9 MAE: 1.3454322814941406\n",
      "west PFS (\u0007lpha = 500) L_5 MAE: 1.3030283451080322\n",
      "southeast PFS (\u0007lpha = 50) L_13 MAE: 1.4911034107208252\n",
      "southeast PFS (\u0007lpha = 50) L_9 MAE: 1.4329015016555786\n",
      "southeast PFS (\u0007lpha = 50) L_5 MAE: 1.4113613367080688\n",
      "central PFS (\u0007lpha = 50) L_13 MAE: 1.2291878461837769\n",
      "central PFS (\u0007lpha = 50) L_9 MAE: 1.227510690689087\n",
      "central PFS (\u0007lpha = 50) L_5 MAE: 1.2410467863082886\n",
      "west PFS (\u0007lpha = 50) L_13 MAE: 1.4131944179534912\n",
      "west PFS (\u0007lpha = 50) L_9 MAE: 1.410981297492981\n",
      "west PFS (\u0007lpha = 50) L_5 MAE: 1.4086753129959106\n"
     ]
    }
   ],
   "source": [
    "# model = model_list['PFS GAN']['(\\\\alpha = 500)'][0]\n",
    "for model in model_list['PFS GAN']:\n",
    "    lr, hr = model.load_test()\n",
    "    sr = SuperResolver(model=model.load_generator(), lr=lr, hr=hr, region=model.region)\n",
    "    hr = sr.super_resolve()\n",
    "    y = sr.ground_truth()\n",
    "    MAE = []\n",
    "    for hr_field, y_field in zip(hr, y):\n",
    "        hr_field = hr_field.flatten().cpu().detach()\n",
    "        y_field = y_field.flatten().cpu().detach()\n",
    "\n",
    "        MAE.append(\n",
    "            torch.mean(\n",
    "                torch.abs(hr_field - y_field)\n",
    "            )\n",
    "        )\n",
    "    print(f\"{model.region} {model.sr_model_name} MAE: {np.mean(MAE)}\")\n",
    "\n"
   ]
  },
  {
   "cell_type": "code",
   "execution_count": null,
   "id": "bd5712bc",
   "metadata": {},
   "outputs": [],
   "source": []
  }
 ],
 "metadata": {
  "kernelspec": {
   "display_name": "Python 3 (ipykernel)",
   "language": "python",
   "name": "python3"
  },
  "language_info": {
   "codemirror_mode": {
    "name": "ipython",
    "version": 3
   },
   "file_extension": ".py",
   "mimetype": "text/x-python",
   "name": "python",
   "nbconvert_exporter": "python",
   "pygments_lexer": "ipython3",
   "version": "3.8.12"
  },
  "vscode": {
   "interpreter": {
    "hash": "916dbcbb3f70747c44a77c7bcd40155683ae19c65e1c03b4aa3499c5328201f1"
   }
  }
 },
 "nbformat": 4,
 "nbformat_minor": 5
}
